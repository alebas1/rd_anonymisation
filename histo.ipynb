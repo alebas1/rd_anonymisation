{
 "cells": [
  {
   "cell_type": "code",
   "execution_count": 13,
   "metadata": {},
   "outputs": [
    {
     "data": {
      "image/png": "[encoded data removed]",
      "text/plain": [
       "<Figure size 432x288 with 1 Axes>"
      ]
     },
     "metadata": {
      "needs_background": "light"
     },
     "output_type": "display_data"
    },
    {
     "name": "stdout",
     "output_type": "stream",
     "text": [
      "0.0 - 5.1 : 7.0\n",
      "5.1 - 10.2 : 37.0\n",
      "10.2 - 15.299999999999999 : 127.0\n",
      "15.299999999999999 - 20.4 : 414.0\n",
      "20.4 - 25.5 : 1053.0\n",
      "25.5 - 30.599999999999998 : 3360.0\n",
      "30.599999999999998 - 35.699999999999996 : 6556.0\n",
      "35.699999999999996 - 40.8 : 5885.0\n",
      "40.8 - 45.9 : 7182.0\n",
      "45.9 - 51.0 : 15884.0\n",
      "51.0 - 56.099999999999994 : 33573.0\n",
      "56.099999999999994 - 61.199999999999996 : 15345.0\n",
      "61.199999999999996 - 66.3 : 13665.0\n",
      "66.3 - 71.39999999999999 : 14265.0\n",
      "71.39999999999999 - 76.5 : 15631.0\n",
      "76.5 - 81.6 : 18137.0\n",
      "81.6 - 86.69999999999999 : 21706.0\n",
      "86.69999999999999 - 91.8 : 25622.0\n",
      "91.8 - 96.89999999999999 : 28453.0\n",
      "96.89999999999999 - 102.0 : 29611.0\n",
      "102.0 - 107.1 : 36060.0\n",
      "107.1 - 112.19999999999999 : 29628.0\n",
      "112.19999999999999 - 117.3 : 30009.0\n",
      "117.3 - 122.39999999999999 : 30368.0\n",
      "122.39999999999999 - 127.49999999999999 : 35407.0\n",
      "127.49999999999999 - 132.6 : 49035.0\n",
      "132.6 - 137.7 : 49456.0\n",
      "137.7 - 142.79999999999998 : 47894.0\n",
      "142.79999999999998 - 147.89999999999998 : 51543.0\n",
      "147.89999999999998 - 153.0 : 63727.0\n",
      "153.0 - 158.1 : 150205.0\n",
      "158.1 - 163.2 : 214865.0\n",
      "163.2 - 168.29999999999998 : 342376.0\n",
      "168.29999999999998 - 173.39999999999998 : 383838.0\n",
      "173.39999999999998 - 178.5 : 223312.0\n",
      "178.5 - 183.6 : 188078.0\n",
      "183.6 - 188.7 : 195591.0\n",
      "188.7 - 193.79999999999998 : 176106.0\n",
      "193.79999999999998 - 198.89999999999998 : 159412.0\n",
      "198.89999999999998 - 204.0 : 200340.0\n",
      "204.0 - 209.1 : 535729.0\n",
      "209.1 - 214.2 : 683538.0\n",
      "214.2 - 219.29999999999998 : 517362.0\n",
      "219.29999999999998 - 224.39999999999998 : 215093.0\n",
      "224.39999999999998 - 229.49999999999997 : 43204.0\n",
      "229.49999999999997 - 234.6 : 5140.0\n",
      "234.6 - 239.7 : 1066.0\n",
      "239.7 - 244.79999999999998 : 247.0\n",
      "244.79999999999998 - 249.89999999999998 : 49.0\n",
      "61.199999999999996\n"
     ]
    }
   ],
   "source": [
    "import numpy as np\n",
    "import cv2\n",
    "from cv2 import data, exp\n",
    "import matplotlib.pyplot as plt\n",
    "\n",
    "\n",
    "image = cv2.imread('./factures/invoice1.jpg')\n",
    "image = cv2.imread('./resulTreat/invoice3testfjnzjdzjkdnzdjndjzdnjzndzjknd.jpg')\n",
    "image = cv2.resize(image, None, fx=2, fy=2, interpolation=cv2.INTER_CUBIC)\n",
    "image = cv2.cvtColor(image, cv2.COLOR_BGR2GRAY)\n",
    "\n",
    "hist,bins = np.histogram(image.flatten(),256,[0,256])\n",
    "\n",
    "cdf = hist.cumsum()\n",
    "cdf_normalized = cdf * hist.max()/ cdf.max()\n",
    "\n",
    "plt.plot(cdf_normalized, color = 'b')\n",
    "n,modes,p = plt.hist(image.flatten(), 50, (0, 255))\n",
    "plt.xlim([0,256])\n",
    "plt.show()\n",
    "\n",
    "x = 12\n",
    "t=n[x:-10].argmin() + x\n",
    "for i in range(0,len(n)-1):\n",
    "    print(str(modes[i])+\" - \"+str(modes[i+1])+\" : \"+str(n[i]))\n",
    "print(modes[t])\n"
   ]
  }
 ],
 "metadata": {
  "interpreter": {
   "hash": "916dbcbb3f70747c44a77c7bcd40155683ae19c65e1c03b4aa3499c5328201f1"
  },
  "kernelspec": {
   "display_name": "Python 3.8.10 64-bit",
   "language": "python",
   "name": "python3"
  },
  "language_info": {
   "codemirror_mode": {
    "name": "ipython",
    "version": 3
   },
   "file_extension": ".py",
   "mimetype": "text/x-python",
   "name": "python",
   "nbconvert_exporter": "python",
   "pygments_lexer": "ipython3",
   "version": "3.8.10"
  },
  "orig_nbformat": 4
 },
 "nbformat": 4,
 "nbformat_minor": 2
}
